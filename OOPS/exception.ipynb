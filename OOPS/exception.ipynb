{
 "cells": [
  {
   "cell_type": "markdown",
   "metadata": {},
   "source": [
    "# Exception Handling"
   ]
  },
  {
   "cell_type": "markdown",
   "metadata": {},
   "source": [
    "Exceptions are events that disrpt the normal flow of a program. Exceptions are something that can be handled by the user unlike errors that can't be handled."
   ]
  },
  {
   "cell_type": "code",
   "execution_count": 5,
   "metadata": {},
   "outputs": [
    {
     "name": "stdout",
     "output_type": "stream",
     "text": [
      "division by zero\n"
     ]
    }
   ],
   "source": [
    "try:\n",
    "    b = 1\n",
    "    a = b\n",
    "    c = 1/0\n",
    "except NameError as ex:\n",
    "    print(ex)\n",
    "except Exception as ex:   # Here Exception is super class of all the exceptions in python and all the excepions are derived from this class\n",
    "    print(ex)"
   ]
  },
  {
   "cell_type": "code",
   "execution_count": 6,
   "metadata": {},
   "outputs": [
    {
     "name": "stdout",
     "output_type": "stream",
     "text": [
      "division by zero\n",
      "Change the denominator: Denominator can't be zero\n",
      "I am tired of running every single time\n"
     ]
    }
   ],
   "source": [
    "try:\n",
    "    b = 10\n",
    "    a = 0\n",
    "    x = 'Lukaz, the Destroyer'\n",
    "    print(b/a)\n",
    "    print(x[100])\n",
    "\n",
    "except ZeroDivisionError as ex:\n",
    "    print(ex)\n",
    "    print(\"Change the denominator: Denominator can't be zero\")\n",
    "\n",
    "else:\n",
    "    print(\"No exceptions has occurred! Woohoo!\")\n",
    "\n",
    "finally:\n",
    "    print(\"I am tired of running every single time\")\n"
   ]
  },
  {
   "cell_type": "markdown",
   "metadata": {},
   "source": [
    "# OOPS\n",
    "It is a programming paradigm that uses 'objects' to design applications and computer programs. OOPS allows modelling of real world scenarios using classes and objects. "
   ]
  },
  {
   "cell_type": "code",
   "execution_count": 7,
   "metadata": {},
   "outputs": [],
   "source": [
    "# Banking question/Scenario\n",
    "\n",
    "class BankAccount:\n",
    "    def __init__(self, ownername, balance=0):\n",
    "        self.ownername = ownername\n",
    "        self.balance = balance\n",
    "\n",
    "    def deposit(self, amount):\n",
    "        self.balance += amount\n",
    "        print(f\"{amount} has been deposited into your account.\")\n",
    "\n",
    "    def withdraw(self, amount):\n",
    "        if(self.balance > amount):\n",
    "            self.balance -= amount\n",
    "            print(f\"{amount} has been witdrawn from your account.\")\n",
    "        else:\n",
    "            print(f'Not enough money to withdraw.\\nCurrent balance: {self.balance}')\n",
    "\n",
    "account1 = BankAccount(\"Lukaz\", 100000)\n"
   ]
  },
  {
   "cell_type": "code",
   "execution_count": 9,
   "metadata": {},
   "outputs": [
    {
     "name": "stdout",
     "output_type": "stream",
     "text": [
      "100000\n",
      "20000 has been deposited into your account.\n"
     ]
    }
   ],
   "source": [
    "print(account1.balance)\n",
    "\n",
    "\n",
    "account1.deposit(20000)"
   ]
  },
  {
   "cell_type": "code",
   "execution_count": 10,
   "metadata": {},
   "outputs": [
    {
     "name": "stdout",
     "output_type": "stream",
     "text": [
      "90000 has been witdrawn from your account.\n"
     ]
    }
   ],
   "source": [
    "account1.withdraw(90000)"
   ]
  },
  {
   "cell_type": "markdown",
   "metadata": {},
   "source": [
    "## Inheritance"
   ]
  },
  {
   "cell_type": "code",
   "execution_count": 11,
   "metadata": {},
   "outputs": [],
   "source": [
    "class Car:\n",
    "    def __init__(self,name,type):\n",
    "        self.name=name\n",
    "        self.type=type\n",
    "\n",
    "    def drive(self):\n",
    "        print(f\"{self.name} is a {self.type} car\")"
   ]
  },
  {
   "cell_type": "code",
   "execution_count": 18,
   "metadata": {},
   "outputs": [],
   "source": [
    "class Tesla(Car):\n",
    "    def __init__(self, name,type, is_selfdriving):\n",
    "        super().__init__(name, type)\n",
    "        self.is_selfdriving = is_selfdriving\n",
    "    \n",
    "    def selfdriving(self):\n",
    "        print(f'Tesla supports self driving feature: {self.is_selfdriving}')"
   ]
  },
  {
   "cell_type": "code",
   "execution_count": 19,
   "metadata": {},
   "outputs": [
    {
     "name": "stdout",
     "output_type": "stream",
     "text": [
      "Tesla supports self driving feature: True\n"
     ]
    }
   ],
   "source": [
    "tesla1 = Tesla(\"RQ7\", \"electric\", True)\n",
    "tesla1.selfdriving()"
   ]
  },
  {
   "cell_type": "code",
   "execution_count": null,
   "metadata": {},
   "outputs": [],
   "source": []
  }
 ],
 "metadata": {
  "kernelspec": {
   "display_name": "Python 3",
   "language": "python",
   "name": "python3"
  },
  "language_info": {
   "codemirror_mode": {
    "name": "ipython",
    "version": 3
   },
   "file_extension": ".py",
   "mimetype": "text/x-python",
   "name": "python",
   "nbconvert_exporter": "python",
   "pygments_lexer": "ipython3",
   "version": "3.11.9"
  }
 },
 "nbformat": 4,
 "nbformat_minor": 2
}
