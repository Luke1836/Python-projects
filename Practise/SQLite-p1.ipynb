{
 "cells": [
  {
   "cell_type": "markdown",
   "metadata": {},
   "source": [
    "# SQLite3\n",
    "\n",
    "  It is a free, serverless database engine that comes along with the python3 module/package. We can write and execute SQL commands using it"
   ]
  },
  {
   "cell_type": "code",
   "execution_count": 3,
   "metadata": {},
   "outputs": [],
   "source": [
    "import sqlite3 as sq"
   ]
  },
  {
   "cell_type": "code",
   "execution_count": 5,
   "metadata": {},
   "outputs": [],
   "source": [
    "connection = sq.connect('example.db')"
   ]
  },
  {
   "cell_type": "code",
   "execution_count": 6,
   "metadata": {},
   "outputs": [],
   "source": [
    "cursor = connection.cursor()    "
   ]
  },
  {
   "cell_type": "code",
   "execution_count": 8,
   "metadata": {},
   "outputs": [],
   "source": [
    "cursor.execute(\"\"\"\n",
    "    Create Table If not exists employees(\n",
    "               id Integer primary key,\n",
    "               name Text Not Null,\n",
    "               age Integer,\n",
    "               profession Text\n",
    "        )\n",
    "\"\"\")\n",
    "\n",
    "connection.commit()"
   ]
  },
  {
   "cell_type": "code",
   "execution_count": 18,
   "metadata": {},
   "outputs": [],
   "source": [
    "cursor.execute(\"\"\"\n",
    "    Insert into employees (name, age, profession) \n",
    "    VALUES ('George', 21, 'Data Analyst')\n",
    "\"\"\")\n",
    "\n",
    "connection.commit()"
   ]
  },
  {
   "cell_type": "code",
   "execution_count": 19,
   "metadata": {},
   "outputs": [],
   "source": [
    "cursor.execute(\"\"\"\n",
    "    Insert into employees (name, age, profession) \n",
    "    VALUES ('Lukaz', 23, 'Web developer'),\n",
    "           ('Andrew', 26, 'Data Scientist')\n",
    "\"\"\")\n",
    "\n",
    "connection.commit()"
   ]
  },
  {
   "cell_type": "code",
   "execution_count": 20,
   "metadata": {},
   "outputs": [
    {
     "name": "stdout",
     "output_type": "stream",
     "text": [
      "(1, 'George', 21, 'Data Analyst')\n",
      "(2, 'Lukaz', 23, 'Web developer')\n",
      "(3, 'Andrew', 26, 'Data Scientist')\n"
     ]
    }
   ],
   "source": [
    "cursor.execute(\"\"\"\n",
    "    Select * from employees\n",
    "\"\"\")\n",
    "rows = cursor.fetchall()\n",
    "\n",
    "for row in rows:\n",
    "    print(row)"
   ]
  },
  {
   "cell_type": "code",
   "execution_count": 23,
   "metadata": {},
   "outputs": [],
   "source": [
    "data_emp = [\n",
    "    ('Mathew', 34, 'Mathematician'),\n",
    "    ('Gregory', 43, 'Researcher'),\n",
    "    ('Michael', 23, 'Footballer')\n",
    "]\n",
    "\n",
    "cursor.executemany(\"\"\"\n",
    "       Insert into employees (name, age, profession)\n",
    "       Values (?,?,?)            \n",
    "                   \n",
    "\"\"\", data_emp)\n",
    "\n",
    "connection.commit()"
   ]
  },
  {
   "cell_type": "code",
   "execution_count": 24,
   "metadata": {},
   "outputs": [
    {
     "name": "stdout",
     "output_type": "stream",
     "text": [
      "(1, 'George', 21, 'Data Analyst')\n",
      "(2, 'Lukaz', 23, 'Web developer')\n",
      "(3, 'Andrew', 26, 'Data Scientist')\n",
      "(4, 'Mathew', 34, 'Mathematician')\n",
      "(5, 'Gregory', 43, 'Researcher')\n",
      "(6, 'Michael', 23, 'Footballer')\n"
     ]
    }
   ],
   "source": [
    "cursor.execute(\"\"\"\n",
    "    Select * from employees\n",
    "\"\"\")\n",
    "rows = cursor.fetchall()\n",
    "\n",
    "for row in rows:\n",
    "    print(row)"
   ]
  },
  {
   "cell_type": "code",
   "execution_count": null,
   "metadata": {},
   "outputs": [],
   "source": []
  }
 ],
 "metadata": {
  "kernelspec": {
   "display_name": "Python 3",
   "language": "python",
   "name": "python3"
  },
  "language_info": {
   "codemirror_mode": {
    "name": "ipython",
    "version": 3
   },
   "file_extension": ".py",
   "mimetype": "text/x-python",
   "name": "python",
   "nbconvert_exporter": "python",
   "pygments_lexer": "ipython3",
   "version": "3.11.9"
  }
 },
 "nbformat": 4,
 "nbformat_minor": 2
}
